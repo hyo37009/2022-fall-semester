{
 "cells": [
  {
   "cell_type": "code",
   "execution_count": 6,
   "metadata": {
    "collapsed": true,
    "pycharm": {
     "name": "#%%\n"
    }
   },
   "outputs": [],
   "source": [
    "from common.functions import *\n",
    "from common.gradient import numerical_gradient\n",
    "import numpy as np\n",
    "\n",
    "class TwoLayerNet:\n",
    "    def __init__(self, input_size, hidden_size, output_size, weight_init_std=0.01):\n",
    "        self.params = {}\n",
    "        self.params['W1'] = weight_init_std * np.random.randn(input_size, hidden_size)\n",
    "        self.params['b1'] = np.zeros(hidden_size)\n",
    "        self.params['W2'] = weight_init_std * np.random.randn(hidden_size, output_size)\n",
    "        self.params['b2'] = np.zeros(output_size)\n",
    "\n",
    "    def predict(self, x):\n",
    "        W1, W2 = self.params['W1'], self.params['W2']\n",
    "        b1, b2 = self.params['b1'], self.params['b2']\n",
    "\n",
    "        a1 = np.dot(x, W1) + b1\n",
    "        z1 = sigmoid(a1)\n",
    "        a2 = np.dot(z1, W2) + b2\n",
    "        y = softmax(a2)\n",
    "\n",
    "        return y\n",
    "\n",
    "    def loss(self, x, t):\n",
    "        y = self.predict(x)\n",
    "\n",
    "        return cross_entropy_error(y, t)\n",
    "\n",
    "    def accuracy(self, x, t):\n",
    "        y = self.predict(x)\n",
    "        y = np.argmax(y, axis=1)\n",
    "        t = np.argmax(t, axis=1)\n",
    "\n",
    "        accuracy = np.sum(y == t) / float(x.shape[0])\n",
    "        return accuracy\n",
    "\n",
    "    def numerical_gradient(self, x, t):\n",
    "        loss_W = lambda W: self.loss(x, t)\n",
    "\n",
    "        grads = {}\n",
    "        grads['W1'] = numerical_gradient(loss_W, self.params['W1'])\n",
    "        grads['b1'] = numerical_gradient(loss_W, self.params['b1'])\n",
    "        grads['W2'] = numerical_gradient(loss_W, self.params['W2'])\n",
    "        grads['b2'] = numerical_gradient(loss_W, self.params['b2'])\n",
    "\n",
    "        return grads"
   ]
  },
  {
   "cell_type": "code",
   "execution_count": 7,
   "outputs": [
    {
     "ename": "KeyboardInterrupt",
     "evalue": "",
     "output_type": "error",
     "traceback": [
      "\u001B[1;31m---------------------------------------------------------------------------\u001B[0m",
      "\u001B[1;31mKeyboardInterrupt\u001B[0m                         Traceback (most recent call last)",
      "Input \u001B[1;32mIn [7]\u001B[0m, in \u001B[0;36m<cell line: 15>\u001B[1;34m()\u001B[0m\n\u001B[0;32m     17\u001B[0m x_batch \u001B[38;5;241m=\u001B[39m x_train[batch_mask]\n\u001B[0;32m     18\u001B[0m t_batch \u001B[38;5;241m=\u001B[39m t_train[batch_mask]\n\u001B[1;32m---> 20\u001B[0m grad \u001B[38;5;241m=\u001B[39m \u001B[43mnetwork\u001B[49m\u001B[38;5;241;43m.\u001B[39;49m\u001B[43mnumerical_gradient\u001B[49m\u001B[43m(\u001B[49m\u001B[43mx_batch\u001B[49m\u001B[43m,\u001B[49m\u001B[43m \u001B[49m\u001B[43mt_batch\u001B[49m\u001B[43m)\u001B[49m\n\u001B[0;32m     22\u001B[0m \u001B[38;5;28;01mfor\u001B[39;00m key \u001B[38;5;129;01min\u001B[39;00m (\u001B[38;5;124m'\u001B[39m\u001B[38;5;124mW1\u001B[39m\u001B[38;5;124m'\u001B[39m, \u001B[38;5;124m'\u001B[39m\u001B[38;5;124mb1\u001B[39m\u001B[38;5;124m'\u001B[39m, \u001B[38;5;124m'\u001B[39m\u001B[38;5;124mW2\u001B[39m\u001B[38;5;124m'\u001B[39m, \u001B[38;5;124m'\u001B[39m\u001B[38;5;124mb2\u001B[39m\u001B[38;5;124m'\u001B[39m):\n\u001B[0;32m     23\u001B[0m     network\u001B[38;5;241m.\u001B[39mparams[key] \u001B[38;5;241m-\u001B[39m\u001B[38;5;241m=\u001B[39m learning_rate \u001B[38;5;241m*\u001B[39m grad[key]\n",
      "Input \u001B[1;32mIn [6]\u001B[0m, in \u001B[0;36mTwoLayerNet.numerical_gradient\u001B[1;34m(self, x, t)\u001B[0m\n\u001B[0;32m     38\u001B[0m loss_W \u001B[38;5;241m=\u001B[39m \u001B[38;5;28;01mlambda\u001B[39;00m W: \u001B[38;5;28mself\u001B[39m\u001B[38;5;241m.\u001B[39mloss(x, t)\n\u001B[0;32m     40\u001B[0m grads \u001B[38;5;241m=\u001B[39m {}\n\u001B[1;32m---> 41\u001B[0m grads[\u001B[38;5;124m'\u001B[39m\u001B[38;5;124mW1\u001B[39m\u001B[38;5;124m'\u001B[39m] \u001B[38;5;241m=\u001B[39m \u001B[43mnumerical_gradient\u001B[49m\u001B[43m(\u001B[49m\u001B[43mloss_W\u001B[49m\u001B[43m,\u001B[49m\u001B[43m \u001B[49m\u001B[38;5;28;43mself\u001B[39;49m\u001B[38;5;241;43m.\u001B[39;49m\u001B[43mparams\u001B[49m\u001B[43m[\u001B[49m\u001B[38;5;124;43m'\u001B[39;49m\u001B[38;5;124;43mW1\u001B[39;49m\u001B[38;5;124;43m'\u001B[39;49m\u001B[43m]\u001B[49m\u001B[43m)\u001B[49m\n\u001B[0;32m     42\u001B[0m grads[\u001B[38;5;124m'\u001B[39m\u001B[38;5;124mb1\u001B[39m\u001B[38;5;124m'\u001B[39m] \u001B[38;5;241m=\u001B[39m numerical_gradient(loss_W, \u001B[38;5;28mself\u001B[39m\u001B[38;5;241m.\u001B[39mparams[\u001B[38;5;124m'\u001B[39m\u001B[38;5;124mb1\u001B[39m\u001B[38;5;124m'\u001B[39m])\n\u001B[0;32m     43\u001B[0m grads[\u001B[38;5;124m'\u001B[39m\u001B[38;5;124mW2\u001B[39m\u001B[38;5;124m'\u001B[39m] \u001B[38;5;241m=\u001B[39m numerical_gradient(loss_W, \u001B[38;5;28mself\u001B[39m\u001B[38;5;241m.\u001B[39mparams[\u001B[38;5;124m'\u001B[39m\u001B[38;5;124mW2\u001B[39m\u001B[38;5;124m'\u001B[39m])\n",
      "File \u001B[1;32m~\\Documents\\git\\2022-fall-semester\\밑바닥부터 시작하는 딥러닝\\ch4\\common\\gradient.py:46\u001B[0m, in \u001B[0;36mnumerical_gradient\u001B[1;34m(f, x)\u001B[0m\n\u001B[0;32m     43\u001B[0m fxh1 \u001B[38;5;241m=\u001B[39m f(x) \u001B[38;5;66;03m# f(x+h)\u001B[39;00m\n\u001B[0;32m     45\u001B[0m x[idx] \u001B[38;5;241m=\u001B[39m tmp_val \u001B[38;5;241m-\u001B[39m h \n\u001B[1;32m---> 46\u001B[0m fxh2 \u001B[38;5;241m=\u001B[39m \u001B[43mf\u001B[49m\u001B[43m(\u001B[49m\u001B[43mx\u001B[49m\u001B[43m)\u001B[49m \u001B[38;5;66;03m# f(x-h)\u001B[39;00m\n\u001B[0;32m     47\u001B[0m grad[idx] \u001B[38;5;241m=\u001B[39m (fxh1 \u001B[38;5;241m-\u001B[39m fxh2) \u001B[38;5;241m/\u001B[39m (\u001B[38;5;241m2\u001B[39m\u001B[38;5;241m*\u001B[39mh)\n\u001B[0;32m     49\u001B[0m x[idx] \u001B[38;5;241m=\u001B[39m tmp_val \u001B[38;5;66;03m# 값 복원\u001B[39;00m\n",
      "Input \u001B[1;32mIn [6]\u001B[0m, in \u001B[0;36mTwoLayerNet.numerical_gradient.<locals>.<lambda>\u001B[1;34m(W)\u001B[0m\n\u001B[0;32m     37\u001B[0m \u001B[38;5;28;01mdef\u001B[39;00m \u001B[38;5;21mnumerical_gradient\u001B[39m(\u001B[38;5;28mself\u001B[39m, x, t):\n\u001B[1;32m---> 38\u001B[0m     loss_W \u001B[38;5;241m=\u001B[39m \u001B[38;5;28;01mlambda\u001B[39;00m W: \u001B[38;5;28;43mself\u001B[39;49m\u001B[38;5;241;43m.\u001B[39;49m\u001B[43mloss\u001B[49m\u001B[43m(\u001B[49m\u001B[43mx\u001B[49m\u001B[43m,\u001B[49m\u001B[43m \u001B[49m\u001B[43mt\u001B[49m\u001B[43m)\u001B[49m\n\u001B[0;32m     40\u001B[0m     grads \u001B[38;5;241m=\u001B[39m {}\n\u001B[0;32m     41\u001B[0m     grads[\u001B[38;5;124m'\u001B[39m\u001B[38;5;124mW1\u001B[39m\u001B[38;5;124m'\u001B[39m] \u001B[38;5;241m=\u001B[39m numerical_gradient(loss_W, \u001B[38;5;28mself\u001B[39m\u001B[38;5;241m.\u001B[39mparams[\u001B[38;5;124m'\u001B[39m\u001B[38;5;124mW1\u001B[39m\u001B[38;5;124m'\u001B[39m])\n",
      "Input \u001B[1;32mIn [6]\u001B[0m, in \u001B[0;36mTwoLayerNet.loss\u001B[1;34m(self, x, t)\u001B[0m\n\u001B[0;32m     24\u001B[0m \u001B[38;5;28;01mdef\u001B[39;00m \u001B[38;5;21mloss\u001B[39m(\u001B[38;5;28mself\u001B[39m, x, t):\n\u001B[1;32m---> 25\u001B[0m     y \u001B[38;5;241m=\u001B[39m \u001B[38;5;28;43mself\u001B[39;49m\u001B[38;5;241;43m.\u001B[39;49m\u001B[43mpredict\u001B[49m\u001B[43m(\u001B[49m\u001B[43mx\u001B[49m\u001B[43m)\u001B[49m\n\u001B[0;32m     27\u001B[0m     \u001B[38;5;28;01mreturn\u001B[39;00m cross_entropy_error(y, t)\n",
      "Input \u001B[1;32mIn [6]\u001B[0m, in \u001B[0;36mTwoLayerNet.predict\u001B[1;34m(self, x)\u001B[0m\n\u001B[0;32m     14\u001B[0m W1, W2 \u001B[38;5;241m=\u001B[39m \u001B[38;5;28mself\u001B[39m\u001B[38;5;241m.\u001B[39mparams[\u001B[38;5;124m'\u001B[39m\u001B[38;5;124mW1\u001B[39m\u001B[38;5;124m'\u001B[39m], \u001B[38;5;28mself\u001B[39m\u001B[38;5;241m.\u001B[39mparams[\u001B[38;5;124m'\u001B[39m\u001B[38;5;124mW2\u001B[39m\u001B[38;5;124m'\u001B[39m]\n\u001B[0;32m     15\u001B[0m b1, b2 \u001B[38;5;241m=\u001B[39m \u001B[38;5;28mself\u001B[39m\u001B[38;5;241m.\u001B[39mparams[\u001B[38;5;124m'\u001B[39m\u001B[38;5;124mb1\u001B[39m\u001B[38;5;124m'\u001B[39m], \u001B[38;5;28mself\u001B[39m\u001B[38;5;241m.\u001B[39mparams[\u001B[38;5;124m'\u001B[39m\u001B[38;5;124mb2\u001B[39m\u001B[38;5;124m'\u001B[39m]\n\u001B[1;32m---> 17\u001B[0m a1 \u001B[38;5;241m=\u001B[39m \u001B[43mnp\u001B[49m\u001B[38;5;241;43m.\u001B[39;49m\u001B[43mdot\u001B[49m\u001B[43m(\u001B[49m\u001B[43mx\u001B[49m\u001B[43m,\u001B[49m\u001B[43m \u001B[49m\u001B[43mW1\u001B[49m\u001B[43m)\u001B[49m \u001B[38;5;241m+\u001B[39m b1\n\u001B[0;32m     18\u001B[0m z1 \u001B[38;5;241m=\u001B[39m sigmoid(a1)\n\u001B[0;32m     19\u001B[0m a2 \u001B[38;5;241m=\u001B[39m np\u001B[38;5;241m.\u001B[39mdot(z1, W2) \u001B[38;5;241m+\u001B[39m b2\n",
      "File \u001B[1;32m<__array_function__ internals>:180\u001B[0m, in \u001B[0;36mdot\u001B[1;34m(*args, **kwargs)\u001B[0m\n",
      "\u001B[1;31mKeyboardInterrupt\u001B[0m: "
     ]
    }
   ],
   "source": [
    "from dataset.mnist import load_mnist\n",
    "\n",
    "(x_train, t_train), (x_test, t_test) = \\\n",
    "    load_mnist(normalize=True, one_hot_label=True)\n",
    "\n",
    "train_loss_list = []\n",
    "\n",
    "iters_num = 10000\n",
    "train_size = x_train.shape[0]\n",
    "batch_size = 100\n",
    "learning_rate = 0.1\n",
    "\n",
    "network = TwoLayerNet(input_size=784, hidden_size=50, output_size=10)\n",
    "\n",
    "for i in range(iters_num):\n",
    "    batch_mask = np.random.choice(train_size, batch_size)\n",
    "    x_batch = x_train[batch_mask]\n",
    "    t_batch = t_train[batch_mask]\n",
    "\n",
    "    grad = network.numerical_gradient(x_batch, t_batch)\n",
    "\n",
    "    for key in ('W1', 'b1', 'W2', 'b2'):\n",
    "        network.params[key] -= learning_rate * grad[key]\n",
    "\n",
    "        loss = network.loss(x_batch, t_batch)\n",
    "        train_loss_list.append(loss)"
   ],
   "metadata": {
    "collapsed": false,
    "pycharm": {
     "name": "#%%\n"
    }
   }
  },
  {
   "cell_type": "code",
   "execution_count": null,
   "outputs": [],
   "source": [],
   "metadata": {
    "collapsed": false,
    "pycharm": {
     "name": "#%%\n"
    }
   }
  }
 ],
 "metadata": {
  "kernelspec": {
   "display_name": "Python 3",
   "language": "python",
   "name": "python3"
  },
  "language_info": {
   "codemirror_mode": {
    "name": "ipython",
    "version": 2
   },
   "file_extension": ".py",
   "mimetype": "text/x-python",
   "name": "python",
   "nbconvert_exporter": "python",
   "pygments_lexer": "ipython2",
   "version": "2.7.6"
  }
 },
 "nbformat": 4,
 "nbformat_minor": 0
}